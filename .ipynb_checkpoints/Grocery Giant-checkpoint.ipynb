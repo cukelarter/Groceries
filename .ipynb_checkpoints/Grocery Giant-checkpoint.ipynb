{
 "cells": [
  {
   "cell_type": "markdown",
   "metadata": {},
   "source": [
    "This will be a helper for analyzing grocery lists. This uses excel lists made in a specific format based off of GIANT, which may obtainable from scanning receipts."
   ]
  },
  {
   "cell_type": "markdown",
   "metadata": {},
   "source": [
    "First we set up the prerequisites and import the list file."
   ]
  },
  {
   "cell_type": "code",
   "execution_count": 23,
   "metadata": {},
   "outputs": [],
   "source": [
    "# Set up prerequisites\n",
    "import pandas as pd\n",
    "import math\n",
    "# Import the file into pandas, works for current format.\n",
    "f=pd.read_excel('list0.xlsx',header=3)"
   ]
  },
  {
   "cell_type": "code",
   "execution_count": 24,
   "metadata": {},
   "outputs": [
    {
     "data": {
      "text/plain": [
       "pandas.core.frame.DataFrame"
      ]
     },
     "execution_count": 24,
     "metadata": {},
     "output_type": "execute_result"
    }
   ],
   "source": [
    "type(f.head())"
   ]
  },
  {
   "cell_type": "markdown",
   "metadata": {},
   "source": [
    "Just testing to see if it's working."
   ]
  },
  {
   "cell_type": "markdown",
   "metadata": {},
   "source": [
    "## Filtering"
   ]
  },
  {
   "cell_type": "markdown",
   "metadata": {},
   "source": [
    "Now it's time for some cleanup. I'd like to first change the NaN values to blank values for readability."
   ]
  },
  {
   "cell_type": "code",
   "execution_count": 25,
   "metadata": {},
   "outputs": [],
   "source": [
    "for col in list(f):\n",
    "    for ii in range(len(f[col])):\n",
    "        f_ii=f.loc[ii,col]\n",
    "        try:\n",
    "            if math.isnan(f_ii):\n",
    "                f.loc[ii,col]=''\n",
    "        except:\n",
    "            # Usually want to suppress this\n",
    "            # print('Exception at ' + str(ii))\n",
    "            continue"
   ]
  },
  {
   "cell_type": "code",
   "execution_count": 26,
   "metadata": {},
   "outputs": [
    {
     "data": {
      "text/html": [
       "<div>\n",
       "<style scoped>\n",
       "    .dataframe tbody tr th:only-of-type {\n",
       "        vertical-align: middle;\n",
       "    }\n",
       "\n",
       "    .dataframe tbody tr th {\n",
       "        vertical-align: top;\n",
       "    }\n",
       "\n",
       "    .dataframe thead th {\n",
       "        text-align: right;\n",
       "    }\n",
       "</style>\n",
       "<table border=\"1\" class=\"dataframe\">\n",
       "  <thead>\n",
       "    <tr style=\"text-align: right;\">\n",
       "      <th></th>\n",
       "      <th>Name</th>\n",
       "      <th>S?</th>\n",
       "      <th>Pre-Sale Price</th>\n",
       "      <th>Unit Price</th>\n",
       "      <th>Qty.</th>\n",
       "      <th>Unit</th>\n",
       "      <th>Net Cost</th>\n",
       "      <th>Type</th>\n",
       "      <th>Brand</th>\n",
       "    </tr>\n",
       "  </thead>\n",
       "  <tbody>\n",
       "    <tr>\n",
       "      <th>0</th>\n",
       "      <td>Impossible Burger Meat</td>\n",
       "      <td>S</td>\n",
       "      <td></td>\n",
       "      <td>0.75</td>\n",
       "      <td>12</td>\n",
       "      <td>oz.</td>\n",
       "      <td>9</td>\n",
       "      <td></td>\n",
       "      <td>Impossible Brand</td>\n",
       "    </tr>\n",
       "    <tr>\n",
       "      <th>1</th>\n",
       "      <td>Thick Cut Sliced Bacon</td>\n",
       "      <td>S</td>\n",
       "      <td></td>\n",
       "      <td>3.99</td>\n",
       "      <td>1</td>\n",
       "      <td>lb.</td>\n",
       "      <td>3.99</td>\n",
       "      <td></td>\n",
       "      <td></td>\n",
       "    </tr>\n",
       "    <tr>\n",
       "      <th>2</th>\n",
       "      <td>Italian Herbs Stir-in Paste</td>\n",
       "      <td>S</td>\n",
       "      <td></td>\n",
       "      <td>3.99</td>\n",
       "      <td>1</td>\n",
       "      <td>ct.</td>\n",
       "      <td>3.99</td>\n",
       "      <td></td>\n",
       "      <td></td>\n",
       "    </tr>\n",
       "    <tr>\n",
       "      <th>3</th>\n",
       "      <td>Good Butter</td>\n",
       "      <td>S</td>\n",
       "      <td></td>\n",
       "      <td>0.49</td>\n",
       "      <td>8</td>\n",
       "      <td>oz.</td>\n",
       "      <td>3.92</td>\n",
       "      <td></td>\n",
       "      <td>Vermont Creamery</td>\n",
       "    </tr>\n",
       "    <tr>\n",
       "      <th>4</th>\n",
       "      <td>Good Mozzarella</td>\n",
       "      <td>S</td>\n",
       "      <td></td>\n",
       "      <td>0.62</td>\n",
       "      <td>8</td>\n",
       "      <td>oz.</td>\n",
       "      <td>4.96</td>\n",
       "      <td></td>\n",
       "      <td>BelGioioso</td>\n",
       "    </tr>\n",
       "  </tbody>\n",
       "</table>\n",
       "</div>"
      ],
      "text/plain": [
       "                          Name S? Pre-Sale Price Unit Price Qty. Unit  \\\n",
       "0       Impossible Burger Meat  S                      0.75   12  oz.   \n",
       "1       Thick Cut Sliced Bacon  S                      3.99    1  lb.   \n",
       "2  Italian Herbs Stir-in Paste  S                      3.99    1  ct.   \n",
       "3                  Good Butter  S                      0.49    8  oz.   \n",
       "4              Good Mozzarella  S                      0.62    8  oz.   \n",
       "\n",
       "  Net Cost Type             Brand  \n",
       "0        9       Impossible Brand  \n",
       "1     3.99                         \n",
       "2     3.99                         \n",
       "3     3.92       Vermont Creamery  \n",
       "4     4.96             BelGioioso  "
      ]
     },
     "execution_count": 26,
     "metadata": {},
     "output_type": "execute_result"
    }
   ],
   "source": [
    "f.head()"
   ]
  },
  {
   "cell_type": "markdown",
   "metadata": {},
   "source": [
    "Looking better. It's also important to have a 'special' category, for outlier purchases and for scalability sake. Those should be filtered out of the list. Does not to be run if no special category present, but can be without issue."
   ]
  },
  {
   "cell_type": "code",
   "execution_count": 44,
   "metadata": {},
   "outputs": [],
   "source": [
    "special=f[f['S?']!='']; special=special.drop('S?', axis=1);\n",
    "f0=f[f['S?']=='']; f0=f0.drop('S?', axis=1);"
   ]
  },
  {
   "cell_type": "code",
   "execution_count": 45,
   "metadata": {},
   "outputs": [
    {
     "data": {
      "text/html": [
       "<div>\n",
       "<style scoped>\n",
       "    .dataframe tbody tr th:only-of-type {\n",
       "        vertical-align: middle;\n",
       "    }\n",
       "\n",
       "    .dataframe tbody tr th {\n",
       "        vertical-align: top;\n",
       "    }\n",
       "\n",
       "    .dataframe thead th {\n",
       "        text-align: right;\n",
       "    }\n",
       "</style>\n",
       "<table border=\"1\" class=\"dataframe\">\n",
       "  <thead>\n",
       "    <tr style=\"text-align: right;\">\n",
       "      <th></th>\n",
       "      <th>Name</th>\n",
       "      <th>Pre-Sale Price</th>\n",
       "      <th>Unit Price</th>\n",
       "      <th>Qty.</th>\n",
       "      <th>Unit</th>\n",
       "      <th>Net Cost</th>\n",
       "      <th>Type</th>\n",
       "      <th>Brand</th>\n",
       "    </tr>\n",
       "  </thead>\n",
       "  <tbody>\n",
       "    <tr>\n",
       "      <th>5</th>\n",
       "      <td>Bake Shop</td>\n",
       "      <td></td>\n",
       "      <td></td>\n",
       "      <td></td>\n",
       "      <td></td>\n",
       "      <td></td>\n",
       "      <td></td>\n",
       "      <td></td>\n",
       "    </tr>\n",
       "    <tr>\n",
       "      <th>6</th>\n",
       "      <td>Traditional Pizza Crust</td>\n",
       "      <td>4.99</td>\n",
       "      <td>3.5</td>\n",
       "      <td>1</td>\n",
       "      <td>ct.</td>\n",
       "      <td>3.5</td>\n",
       "      <td></td>\n",
       "      <td></td>\n",
       "    </tr>\n",
       "    <tr>\n",
       "      <th>7</th>\n",
       "      <td>Donut Crossiant</td>\n",
       "      <td></td>\n",
       "      <td>0.7</td>\n",
       "      <td>2</td>\n",
       "      <td>ct.</td>\n",
       "      <td>1.4</td>\n",
       "      <td></td>\n",
       "      <td></td>\n",
       "    </tr>\n",
       "    <tr>\n",
       "      <th>8</th>\n",
       "      <td>Dairy</td>\n",
       "      <td></td>\n",
       "      <td></td>\n",
       "      <td></td>\n",
       "      <td></td>\n",
       "      <td></td>\n",
       "      <td></td>\n",
       "      <td></td>\n",
       "    </tr>\n",
       "    <tr>\n",
       "      <th>9</th>\n",
       "      <td>Shredded Mozzarella</td>\n",
       "      <td></td>\n",
       "      <td>0.25</td>\n",
       "      <td>16</td>\n",
       "      <td>oz.</td>\n",
       "      <td>4</td>\n",
       "      <td></td>\n",
       "      <td></td>\n",
       "    </tr>\n",
       "  </tbody>\n",
       "</table>\n",
       "</div>"
      ],
      "text/plain": [
       "                      Name Pre-Sale Price Unit Price Qty. Unit Net Cost Type  \\\n",
       "5                Bake Shop                                                     \n",
       "6  Traditional Pizza Crust           4.99        3.5    1  ct.      3.5        \n",
       "7          Donut Crossiant                       0.7    2  ct.      1.4        \n",
       "8                    Dairy                                                     \n",
       "9      Shredded Mozzarella                      0.25   16  oz.        4        \n",
       "\n",
       "  Brand  \n",
       "5        \n",
       "6        \n",
       "7        \n",
       "8        \n",
       "9        "
      ]
     },
     "execution_count": 45,
     "metadata": {},
     "output_type": "execute_result"
    }
   ],
   "source": [
    "f0.head()"
   ]
  },
  {
   "cell_type": "markdown",
   "metadata": {},
   "source": [
    "GIANT stores have specific entry types depending on product, which are printed in bold above all items in that category. The following code is based on that type of entry.\n",
    "\n",
    "There are bound to be inconsistencies between different stores, but larger pool of data provides allows for merging of store-specific types, or better definition along those types. It also allows for improved entry schema, ultimate goal of receipt scanning."
   ]
  },
  {
   "cell_type": "code",
   "execution_count": null,
   "metadata": {},
   "outputs": [],
   "source": []
  }
 ],
 "metadata": {
  "kernelspec": {
   "display_name": "Python 3",
   "language": "python",
   "name": "python3"
  },
  "language_info": {
   "codemirror_mode": {
    "name": "ipython",
    "version": 3
   },
   "file_extension": ".py",
   "mimetype": "text/x-python",
   "name": "python",
   "nbconvert_exporter": "python",
   "pygments_lexer": "ipython3",
   "version": "3.7.6"
  }
 },
 "nbformat": 4,
 "nbformat_minor": 4
}
