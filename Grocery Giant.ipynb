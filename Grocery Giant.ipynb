{
 "cells": [
  {
   "cell_type": "markdown",
   "metadata": {},
   "source": [
    "This will be a helper for analyzing grocery lists. This uses excel lists made in a specific format based off of GIANT, which may obtainable from scanning receipts. The output of this file should be a standardized cvl file to be used in other programs."
   ]
  },
  {
   "cell_type": "markdown",
   "metadata": {},
   "source": [
    "First we set up the prerequisites and import the list file."
   ]
  },
  {
   "cell_type": "code",
   "execution_count": 1,
   "metadata": {},
   "outputs": [],
   "source": [
    "# Set up prerequisites\n",
    "import pandas as pd\n",
    "import math\n",
    "store='giant'\n",
    "date='07122020'\n",
    "# Import the file into pandas, works for current format.\n",
    "f=pd.read_excel('list0.xlsx',header=3)"
   ]
  },
  {
   "cell_type": "markdown",
   "metadata": {},
   "source": [
    "## Filtering"
   ]
  },
  {
   "cell_type": "markdown",
   "metadata": {},
   "source": [
    "It's important to have a 'special' category, for outlier purchases and for scalability sake. In this example, the S actually stands for splurge items. Those should be filtered out of the list. Does not need to be run if no special category present, but can be without issue."
   ]
  },
  {
   "cell_type": "code",
   "execution_count": 2,
   "metadata": {},
   "outputs": [],
   "source": [
    "s=f[f['S?']=='S']; s=s.drop('S?', axis=1);\n",
    "f0=f[f['S?']!='S']; f0=f0.drop('S?', axis=1);"
   ]
  },
  {
   "cell_type": "markdown",
   "metadata": {},
   "source": [
    "GIANT stores have specific entry types depending on product, which are printed in bold above all items in that category. The following code is based on that type of entry.\n",
    "\n",
    "There are bound to be inconsistencies between different stores, but larger pool of data provides allows for merging of store-specific types, or better definition along those types. It also allows for improved entry schema, ultimate goal of receipt scanning."
   ]
  },
  {
   "cell_type": "code",
   "execution_count": 3,
   "metadata": {},
   "outputs": [
    {
     "name": "stderr",
     "output_type": "stream",
     "text": [
      "C:\\Users\\cukel\\anaconda3\\lib\\site-packages\\pandas\\core\\indexing.py:965: SettingWithCopyWarning: \n",
      "A value is trying to be set on a copy of a slice from a DataFrame.\n",
      "Try using .loc[row_indexer,col_indexer] = value instead\n",
      "\n",
      "See the caveats in the documentation: https://pandas.pydata.org/pandas-docs/stable/user_guide/indexing.html#returning-a-view-versus-a-copy\n",
      "  self.obj[item] = s\n"
     ]
    }
   ],
   "source": [
    "# Generates an error but still works, look into it.\n",
    "f0_prod=f0.dropna(thresh=3);\n",
    "f0_type=f0[f0.count(1)<3]['Name']\n",
    "\n",
    "f0_ti=int(f0_type.index[0]); f0_pi=int(f0_prod.index[-1])\n",
    "for ii in range(f0_ti,f0_pi+1):\n",
    "    if ii in f0_type:\n",
    "        curr_type=f0_type.loc[ii];\n",
    "    else:\n",
    "        f0_prod.loc[ii,'Type']=curr_type\n",
    "        # Index that corresponds to type."
   ]
  },
  {
   "cell_type": "markdown",
   "metadata": {},
   "source": [
    "Products correctly associate with type."
   ]
  },
  {
   "cell_type": "markdown",
   "metadata": {},
   "source": [
    "## Cleanup"
   ]
  },
  {
   "cell_type": "markdown",
   "metadata": {},
   "source": [
    "The big differentiator between this and filtering is that no rows are to be removed from this point onward. The goal is to improve readability and provide framework for other functions. At the end of cleanup data is exported as csv. First I'd like to reindex the product list and change the NaN values to blank values for readability."
   ]
  },
  {
   "cell_type": "code",
   "execution_count": 4,
   "metadata": {},
   "outputs": [],
   "source": [
    "f1=f0_prod.reset_index(drop=True)\n",
    "for col in list(f1):\n",
    "    for ii in range(len(f1[col])):\n",
    "        f1_ii=f1.loc[ii,col]\n",
    "        try:\n",
    "            if math.isnan(f1_ii):\n",
    "                f1.loc[ii,col]=''\n",
    "        except:\n",
    "            # Usually want to suppress this\n",
    "            # print('Exception at ' + str(ii))\n",
    "            continue"
   ]
  },
  {
   "cell_type": "markdown",
   "metadata": {},
   "source": [
    "Export for use in other files."
   ]
  },
  {
   "cell_type": "code",
   "execution_count": 5,
   "metadata": {},
   "outputs": [],
   "source": [
    "f1.to_csv(str(store)+str(date)+'.csv')"
   ]
  },
  {
   "cell_type": "markdown",
   "metadata": {},
   "source": [
    "## Functions"
   ]
  },
  {
   "cell_type": "markdown",
   "metadata": {},
   "source": [
    "Collection of useful functions and desginations, to be branched out into full programs. Planned:\n",
    "    - Improved Entry Systems\n",
    "    - Better Analysis Frameworks"
   ]
  },
  {
   "cell_type": "markdown",
   "metadata": {},
   "source": [
    "#### Dynamically explode largest sections of pie chart"
   ]
  },
  {
   "cell_type": "code",
   "execution_count": 6,
   "metadata": {},
   "outputs": [],
   "source": [
    "def exploder(vc,scale=0.5):\n",
    "    # Dynamically explode chart\n",
    "    # Takes file['Sorter Variable'].value_counts() as vc\n",
    "    # Add options in the future\n",
    "    tot=sum(vc);exp=[];\n",
    "    for ii in vc:\n",
    "        exp.append((ii/tot)*scale)\n",
    "    return exp"
   ]
  },
  {
   "cell_type": "markdown",
   "metadata": {},
   "source": [
    "## Basic Interpretation"
   ]
  },
  {
   "cell_type": "code",
   "execution_count": 7,
   "metadata": {},
   "outputs": [
    {
     "name": "stdout",
     "output_type": "stream",
     "text": [
      "Total Cost: 150.72595\n",
      "Special Cost: 25.86\n",
      "Percentage: 0.14644426694196222\n"
     ]
    }
   ],
   "source": [
    "# Percentage of net value marked special, by cost.\n",
    "s_net_cost=sum(s['Net Cost']); f1_net_cost=sum(f1['Net Cost'])+s_net_cost; \n",
    "print('Total Cost:',str(f1_net_cost))\n",
    "print('Special Cost:',str(s_net_cost))\n",
    "print(\"Percentage:\",str(s_net_cost/(f1_net_cost+s_net_cost)))"
   ]
  },
  {
   "cell_type": "code",
   "execution_count": 12,
   "metadata": {},
   "outputs": [
    {
     "data": {
      "text/plain": [
       "<matplotlib.axes._subplots.AxesSubplot at 0x1e93f4292c8>"
      ]
     },
     "execution_count": 12,
     "metadata": {},
     "output_type": "execute_result"
    },
    {
     "data": {
      "image/png": "[encoded data removed]",
      "text/plain": [
       "<Figure size 432x288 with 1 Axes>"
      ]
     },
     "metadata": {},
     "output_type": "display_data"
    }
   ],
   "source": [
    "import matplotlib.pyplot as plt\n",
    "explode=(0,0.1,0,0,0,0,0,0,0)\n",
    "plot_data=f1['Type'].value_counts()\n",
    "plot_data.plot(kind='pie',title='Types of Products',explode=exploder(plot_data))"
   ]
  },
  {
   "cell_type": "code",
   "execution_count": 9,
   "metadata": {},
   "outputs": [
    {
     "data": {
      "text/plain": [
       "<matplotlib.axes._subplots.AxesSubplot at 0x1e93f3b9288>"
      ]
     },
     "execution_count": 9,
     "metadata": {},
     "output_type": "execute_result"
    },
    {
     "data": {
      "image/png": "[encoded data removed]",
      "text/plain": [
       "<Figure size 432x288 with 1 Axes>"
      ]
     },
     "metadata": {},
     "output_type": "display_data"
    }
   ],
   "source": [
    "import matplotlib.pyplot as plt\n",
    "f1_type=f1.groupby('Type').sum()\n",
    "plot_data=f1_type['Net Cost']\n",
    "plot_data.plot(kind='pie',title='Cost of Product',explode=exploder(plot_data))"
   ]
  },
  {
   "cell_type": "code",
   "execution_count": 10,
   "metadata": {},
   "outputs": [
    {
     "name": "stdout",
     "output_type": "stream",
     "text": [
      "5.172 2.97299880952381\n"
     ]
    }
   ],
   "source": [
    "print(s['Net Cost'].mean(),f1['Net Cost'].mean())"
   ]
  },
  {
   "cell_type": "code",
   "execution_count": 11,
   "metadata": {},
   "outputs": [
    {
     "name": "stdout",
     "output_type": "stream",
     "text": [
      "test\n",
      "test\n",
      "test\n",
      "test\n",
      "test\n",
      "test\n",
      "test\n",
      "test\n",
      "test\n"
     ]
    }
   ],
   "source": [
    "for ii in f1['Type'].value_counts():\n",
    "    print('test')"
   ]
  },
  {
   "cell_type": "code",
   "execution_count": null,
   "metadata": {},
   "outputs": [],
   "source": []
  }
 ],
 "metadata": {
  "kernelspec": {
   "display_name": "Python 3",
   "language": "python",
   "name": "python3"
  },
  "language_info": {
   "codemirror_mode": {
    "name": "ipython",
    "version": 3
   },
   "file_extension": ".py",
   "mimetype": "text/x-python",
   "name": "python",
   "nbconvert_exporter": "python",
   "pygments_lexer": "ipython3",
   "version": "3.7.6"
  }
 },
 "nbformat": 4,
 "nbformat_minor": 4
}
